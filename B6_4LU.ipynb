{
  "nbformat": 4,
  "nbformat_minor": 0,
  "metadata": {
    "colab": {
      "name": "B6 4LU.ipynb",
      "provenance": [],
      "authorship_tag": "ABX9TyPkpfpPPRPa1YTcSi27cnWC",
      "include_colab_link": true
    },
    "kernelspec": {
      "name": "python3",
      "display_name": "Python 3"
    }
  },
  "cells": [
    {
      "cell_type": "markdown",
      "metadata": {
        "id": "view-in-github",
        "colab_type": "text"
      },
      "source": [
        "<a href=\"https://colab.research.google.com/github/chandana30/python-essentials/blob/master/B6_4LU.ipynb\" target=\"_parent\"><img src=\"https://colab.research.google.com/assets/colab-badge.svg\" alt=\"Open In Colab\"/></a>"
      ]
    },
    {
      "cell_type": "code",
      "metadata": {
        "id": "M9Os9vn17QLA",
        "colab_type": "code",
        "colab": {
          "base_uri": "https://localhost:8080/",
          "height": 102
        },
        "outputId": "14c78caf-6888-4757-d992-f7631742c053"
      },
      "source": [
        "s=\"what we think we became; we are python programers \"\n",
        "subs=input(\"enter a substring to search:\")\n",
        "i=s.find(subs)\n",
        "if i==-1:\n",
        "  print(\"specified substring not find\")\n",
        "c=0\n",
        "while i!=-1:\n",
        "  c=c+1\n",
        "  print(\"{} present at index {}:\".format(subs,i))\n",
        "  i=s.find(subs,i+len(subs),len(s))\n",
        "print(\"no of occurences :\",c)\n",
        "\n",
        "\n",
        "\n",
        "  \n",
        "\n"
      ],
      "execution_count": 22,
      "outputs": [
        {
          "output_type": "stream",
          "text": [
            "enter a substring to search:we\n",
            "we present at index 5:\n",
            "we present at index 14:\n",
            "we present at index 25:\n",
            "no of occurences : 3\n"
          ],
          "name": "stdout"
        }
      ]
    },
    {
      "cell_type": "code",
      "metadata": {
        "id": "LL67lByz9sil",
        "colab_type": "code",
        "colab": {
          "base_uri": "https://localhost:8080/",
          "height": 34
        },
        "outputId": "105980a7-874a-4af6-a57b-3bfa1bb6ca84"
      },
      "source": [
        "\"python\".islower()"
      ],
      "execution_count": 23,
      "outputs": [
        {
          "output_type": "execute_result",
          "data": {
            "text/plain": [
              "True"
            ]
          },
          "metadata": {
            "tags": []
          },
          "execution_count": 23
        }
      ]
    },
    {
      "cell_type": "code",
      "metadata": {
        "id": "XPn6cKAF94oL",
        "colab_type": "code",
        "colab": {
          "base_uri": "https://localhost:8080/",
          "height": 34
        },
        "outputId": "fc197c6d-8a93-4f91-a777-62c848cd54eb"
      },
      "source": [
        "\"Python\".islower()"
      ],
      "execution_count": 25,
      "outputs": [
        {
          "output_type": "execute_result",
          "data": {
            "text/plain": [
              "False"
            ]
          },
          "metadata": {
            "tags": []
          },
          "execution_count": 25
        }
      ]
    },
    {
      "cell_type": "code",
      "metadata": {
        "id": "rHR0IQnV-PiQ",
        "colab_type": "code",
        "colab": {
          "base_uri": "https://localhost:8080/",
          "height": 34
        },
        "outputId": "621413d0-a7e1-47a8-8e14-492189e1993b"
      },
      "source": [
        "\"PYTHON\".isupper()"
      ],
      "execution_count": 26,
      "outputs": [
        {
          "output_type": "execute_result",
          "data": {
            "text/plain": [
              "True"
            ]
          },
          "metadata": {
            "tags": []
          },
          "execution_count": 26
        }
      ]
    },
    {
      "cell_type": "code",
      "metadata": {
        "id": "3alaykJZ-Xru",
        "colab_type": "code",
        "colab": {
          "base_uri": "https://localhost:8080/",
          "height": 34
        },
        "outputId": "4e0517c9-39b9-471c-df44-5c1293a2af66"
      },
      "source": [
        "\"pYthon\".isupper()"
      ],
      "execution_count": 28,
      "outputs": [
        {
          "output_type": "execute_result",
          "data": {
            "text/plain": [
              "False"
            ]
          },
          "metadata": {
            "tags": []
          },
          "execution_count": 28
        }
      ]
    }
  ]
}