{
  "nbformat": 4,
  "nbformat_minor": 0,
  "metadata": {
    "colab": {
      "name": "B6LU.ipynb",
      "provenance": []
    },
    "kernelspec": {
      "name": "python3",
      "display_name": "Python 3"
    }
  },
  "cells": [
    {
      "cell_type": "code",
      "metadata": {
        "id": "wFU4H-cTvuzh",
        "colab_type": "code",
        "colab": {
          "base_uri": "https://localhost:8080/",
          "height": 51
        },
        "outputId": "43accbb7-25a5-4180-e104-f56dfee971d0"
      },
      "source": [
        "n=int(input(\"enter number upto which you want to sum\"))\n",
        "i=1\n",
        "sum=0\n",
        "while(i<=n):\n",
        "     sum=sum+i\n",
        "     i=i+1\n",
        "print(\"Sum=\",sum)"
      ],
      "execution_count": null,
      "outputs": [
        {
          "output_type": "stream",
          "text": [
            "enter number upto which you want to sum11\n",
            "Sum= 66\n"
          ],
          "name": "stdout"
        }
      ]
    },
    {
      "cell_type": "code",
      "metadata": {
        "id": "96fEy48TzLfr",
        "colab_type": "code",
        "colab": {
          "base_uri": "https://localhost:8080/",
          "height": 51
        },
        "outputId": "f8c64a17-f15a-4b46-9643-965a797c932a"
      },
      "source": [
        "num=int(input(\"enter a number:\"))\n",
        "if num<=1:\n",
        "  print(num,\"is not a prime number\")\n",
        "else:\n",
        "  for i in range(2,num):\n",
        "    if(num%i)==0:\n",
        "      print(num,\"is not a prime number\")\n",
        "      break\n",
        "  else:\n",
        "    print(num,\"is a prime number\")\n",
        "\n"
      ],
      "execution_count": null,
      "outputs": [
        {
          "output_type": "stream",
          "text": [
            "enter a number:2\n",
            "2 is a prime number\n"
          ],
          "name": "stdout"
        }
      ]
    }
  ]
}