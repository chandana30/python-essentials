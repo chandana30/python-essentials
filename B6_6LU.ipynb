{
  "nbformat": 4,
  "nbformat_minor": 0,
  "metadata": {
    "colab": {
      "name": "B6 6LU.ipynb",
      "provenance": [],
      "authorship_tag": "ABX9TyPt76fbFjhV0V5SsfWk2YrB",
      "include_colab_link": true
    },
    "kernelspec": {
      "name": "python3",
      "display_name": "Python 3"
    }
  },
  "cells": [
    {
      "cell_type": "markdown",
      "metadata": {
        "id": "view-in-github",
        "colab_type": "text"
      },
      "source": [
        "<a href=\"https://colab.research.google.com/github/chandana30/python-essentials/blob/master/B6_6LU.ipynb\" target=\"_parent\"><img src=\"https://colab.research.google.com/assets/colab-badge.svg\" alt=\"Open In Colab\"/></a>"
      ]
    },
    {
      "cell_type": "code",
      "metadata": {
        "id": "_SILhCGWEfXL",
        "colab_type": "code",
        "colab": {
          "base_uri": "https://localhost:8080/",
          "height": 34
        },
        "outputId": "dc3a5c8a-1dd9-4bb1-89f5-e4110ae2a4d0"
      },
      "source": [
        "list1=[1,2,3,4,5]\n",
        "list2=[\"a\",\"b\",\"c\",\"d\",\"e\"]\n",
        "dic={}\n",
        "for n in range(len(list1)):\n",
        "  dic[list1[n]]=list2[n]\n",
        "print(dic)"
      ],
      "execution_count": 3,
      "outputs": [
        {
          "output_type": "stream",
          "text": [
            "{1: 'a', 2: 'b', 3: 'c', 4: 'd', 5: 'e'}\n"
          ],
          "name": "stdout"
        }
      ]
    }
  ]
}