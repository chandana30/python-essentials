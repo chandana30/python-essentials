{
  "nbformat": 4,
  "nbformat_minor": 0,
  "metadata": {
    "colab": {
      "name": "B6 5.ipynb",
      "provenance": [],
      "authorship_tag": "ABX9TyMeFcoNnPRufWucPswRE2jW",
      "include_colab_link": true
    },
    "kernelspec": {
      "name": "python3",
      "display_name": "Python 3"
    }
  },
  "cells": [
    {
      "cell_type": "markdown",
      "metadata": {
        "id": "view-in-github",
        "colab_type": "text"
      },
      "source": [
        "<a href=\"https://colab.research.google.com/github/chandana30/python-essentials/blob/master/B6_5.ipynb\" target=\"_parent\"><img src=\"https://colab.research.google.com/assets/colab-badge.svg\" alt=\"Open In Colab\"/></a>"
      ]
    },
    {
      "cell_type": "code",
      "metadata": {
        "id": "dHFo93oz6up9",
        "colab_type": "code",
        "colab": {
          "base_uri": "https://localhost:8080/",
          "height": 68
        },
        "outputId": "d94d2318-c653-40ad-8007-6b4f4da9030d"
      },
      "source": [
        "c=[0,1,2,10,4,1,0,56,2,0,1,3,0,56,0,4]\n",
        "c.sort()\n",
        "print(\"sorted list :\",c)\n",
        "a=[1,0,0,1,0,1,2,2,0,3,4,4,10,56,56,0]\n",
        "b=[]\n",
        "for i in a:\n",
        "  if i is 0:\n",
        "    b.append(i)\n",
        "    a.remove(i)\n",
        "print(\"\\n new list is:\",a+b)"
      ],
      "execution_count": 24,
      "outputs": [
        {
          "output_type": "stream",
          "text": [
            "sorted list : [0, 0, 0, 0, 0, 1, 1, 1, 2, 2, 3, 4, 4, 10, 56, 56]\n",
            "\n",
            " new list is: [1, 1, 1, 2, 2, 3, 4, 4, 10, 56, 56, 0, 0, 0, 0, 0]\n"
          ],
          "name": "stdout"
        }
      ]
    },
    {
      "cell_type": "code",
      "metadata": {
        "id": "hkXNPlcHAYNZ",
        "colab_type": "code",
        "colab": {
          "base_uri": "https://localhost:8080/",
          "height": 51
        },
        "outputId": "c153fda0-f1a5-45cc-9800-691f7340f230"
      },
      "source": [
        "a=[10,20,40,60,70,80]\n",
        "b=[5,15,25,35,45,60]\n",
        "c=a+b\n",
        "print(c)\n",
        "c.sort()\n",
        "print(c)\n"
      ],
      "execution_count": 31,
      "outputs": [
        {
          "output_type": "stream",
          "text": [
            "[10, 20, 40, 60, 70, 80, 5, 15, 25, 35, 45, 60]\n",
            "[5, 10, 15, 20, 25, 35, 40, 45, 60, 60, 70, 80]\n"
          ],
          "name": "stdout"
        }
      ]
    }
  ]
}